{
  "cells": [
    {
      "cell_type": "code",
      "execution_count": 28,
      "metadata": {
        "id": "vqkpAFzm2Dc0"
      },
      "outputs": [],
      "source": [
        "#импорт библиотек\n",
        "import numpy as np #для матричных вычислений\n",
        "import pandas as pd #для анализа и предобработки данных\n",
        "import matplotlib.pyplot as plt #для визуализации\n",
        "import seaborn as sns #для визуализации\n",
        "\n",
        "from sklearn import linear_model #линейные моделиё\n",
        "from sklearn import tree #деревья решений\n",
        "from sklearn import ensemble #ансамбли\n",
        "from sklearn import metrics #метрики\n",
        "from sklearn import preprocessing #предобработка\n",
        "from sklearn.model_selection import train_test_split #сплитование выборки"
      ]
    },
    {
      "cell_type": "markdown",
      "metadata": {
        "id": "I22U2jMg2xSd"
      },
      "source": [
        "**Описание задачи**\n",
        "\n",
        "Необходимо предсказать биологический ответ молекул (столбец 'Activity') по их химическому составу (столбцы D1-D1776)"
      ]
    },
    {
      "cell_type": "markdown",
      "metadata": {
        "id": "CKMLicBi3ACt"
      },
      "source": [
        "**Знакомство с данными** "
      ]
    },
    {
      "cell_type": "markdown",
      "metadata": {
        "id": "hYlSbw6c3FZV"
      },
      "source": []
    },
    {
      "cell_type": "code",
      "execution_count": 29,
      "metadata": {
        "id": "e5d7qBLw2-79"
      },
      "outputs": [],
      "source": [
        "# Чтение данных\n",
        "data = pd.read_csv('_train_sem09 (1).csv')"
      ]
    },
    {
      "cell_type": "code",
      "execution_count": 30,
      "metadata": {
        "colab": {
          "base_uri": "https://localhost:8080/",
          "height": 236
        },
        "id": "XIGLZHcF3wlk",
        "outputId": "4efed3bc-732c-46f9-f6cb-e3bcdcf0a12d"
      },
      "outputs": [
        {
          "output_type": "execute_result",
          "data": {
            "text/plain": [
              "   Activity        D1        D2    D3   D4        D5        D6        D7  \\\n",
              "0         1  0.000000  0.497009  0.10  0.0  0.132956  0.678031  0.273166   \n",
              "1         1  0.366667  0.606291  0.05  0.0  0.111209  0.803455  0.106105   \n",
              "2         1  0.033300  0.480124  0.00  0.0  0.209791  0.610350  0.356453   \n",
              "3         1  0.000000  0.538825  0.00  0.5  0.196344  0.724230  0.235606   \n",
              "4         0  0.100000  0.517794  0.00  0.0  0.494734  0.781422  0.154361   \n",
              "\n",
              "         D8        D9  ...  D1767  D1768  D1769  D1770  D1771  D1772  D1773  \\\n",
              "0  0.585445  0.743663  ...      0      0      0      0      0      0      0   \n",
              "1  0.411754  0.836582  ...      1      1      1      1      0      1      0   \n",
              "2  0.517720  0.679051  ...      0      0      0      0      0      0      0   \n",
              "3  0.288764  0.805110  ...      0      0      0      0      0      0      0   \n",
              "4  0.303809  0.812646  ...      0      0      0      0      0      0      0   \n",
              "\n",
              "   D1774  D1775  D1776  \n",
              "0      0      0      0  \n",
              "1      0      1      0  \n",
              "2      0      0      0  \n",
              "3      0      0      0  \n",
              "4      0      0      0  \n",
              "\n",
              "[5 rows x 1777 columns]"
            ],
            "text/html": [
              "\n",
              "  <div id=\"df-f9600bd8-08ba-46c5-b475-16ff6b5c64b1\">\n",
              "    <div class=\"colab-df-container\">\n",
              "      <div>\n",
              "<style scoped>\n",
              "    .dataframe tbody tr th:only-of-type {\n",
              "        vertical-align: middle;\n",
              "    }\n",
              "\n",
              "    .dataframe tbody tr th {\n",
              "        vertical-align: top;\n",
              "    }\n",
              "\n",
              "    .dataframe thead th {\n",
              "        text-align: right;\n",
              "    }\n",
              "</style>\n",
              "<table border=\"1\" class=\"dataframe\">\n",
              "  <thead>\n",
              "    <tr style=\"text-align: right;\">\n",
              "      <th></th>\n",
              "      <th>Activity</th>\n",
              "      <th>D1</th>\n",
              "      <th>D2</th>\n",
              "      <th>D3</th>\n",
              "      <th>D4</th>\n",
              "      <th>D5</th>\n",
              "      <th>D6</th>\n",
              "      <th>D7</th>\n",
              "      <th>D8</th>\n",
              "      <th>D9</th>\n",
              "      <th>...</th>\n",
              "      <th>D1767</th>\n",
              "      <th>D1768</th>\n",
              "      <th>D1769</th>\n",
              "      <th>D1770</th>\n",
              "      <th>D1771</th>\n",
              "      <th>D1772</th>\n",
              "      <th>D1773</th>\n",
              "      <th>D1774</th>\n",
              "      <th>D1775</th>\n",
              "      <th>D1776</th>\n",
              "    </tr>\n",
              "  </thead>\n",
              "  <tbody>\n",
              "    <tr>\n",
              "      <th>0</th>\n",
              "      <td>1</td>\n",
              "      <td>0.000000</td>\n",
              "      <td>0.497009</td>\n",
              "      <td>0.10</td>\n",
              "      <td>0.0</td>\n",
              "      <td>0.132956</td>\n",
              "      <td>0.678031</td>\n",
              "      <td>0.273166</td>\n",
              "      <td>0.585445</td>\n",
              "      <td>0.743663</td>\n",
              "      <td>...</td>\n",
              "      <td>0</td>\n",
              "      <td>0</td>\n",
              "      <td>0</td>\n",
              "      <td>0</td>\n",
              "      <td>0</td>\n",
              "      <td>0</td>\n",
              "      <td>0</td>\n",
              "      <td>0</td>\n",
              "      <td>0</td>\n",
              "      <td>0</td>\n",
              "    </tr>\n",
              "    <tr>\n",
              "      <th>1</th>\n",
              "      <td>1</td>\n",
              "      <td>0.366667</td>\n",
              "      <td>0.606291</td>\n",
              "      <td>0.05</td>\n",
              "      <td>0.0</td>\n",
              "      <td>0.111209</td>\n",
              "      <td>0.803455</td>\n",
              "      <td>0.106105</td>\n",
              "      <td>0.411754</td>\n",
              "      <td>0.836582</td>\n",
              "      <td>...</td>\n",
              "      <td>1</td>\n",
              "      <td>1</td>\n",
              "      <td>1</td>\n",
              "      <td>1</td>\n",
              "      <td>0</td>\n",
              "      <td>1</td>\n",
              "      <td>0</td>\n",
              "      <td>0</td>\n",
              "      <td>1</td>\n",
              "      <td>0</td>\n",
              "    </tr>\n",
              "    <tr>\n",
              "      <th>2</th>\n",
              "      <td>1</td>\n",
              "      <td>0.033300</td>\n",
              "      <td>0.480124</td>\n",
              "      <td>0.00</td>\n",
              "      <td>0.0</td>\n",
              "      <td>0.209791</td>\n",
              "      <td>0.610350</td>\n",
              "      <td>0.356453</td>\n",
              "      <td>0.517720</td>\n",
              "      <td>0.679051</td>\n",
              "      <td>...</td>\n",
              "      <td>0</td>\n",
              "      <td>0</td>\n",
              "      <td>0</td>\n",
              "      <td>0</td>\n",
              "      <td>0</td>\n",
              "      <td>0</td>\n",
              "      <td>0</td>\n",
              "      <td>0</td>\n",
              "      <td>0</td>\n",
              "      <td>0</td>\n",
              "    </tr>\n",
              "    <tr>\n",
              "      <th>3</th>\n",
              "      <td>1</td>\n",
              "      <td>0.000000</td>\n",
              "      <td>0.538825</td>\n",
              "      <td>0.00</td>\n",
              "      <td>0.5</td>\n",
              "      <td>0.196344</td>\n",
              "      <td>0.724230</td>\n",
              "      <td>0.235606</td>\n",
              "      <td>0.288764</td>\n",
              "      <td>0.805110</td>\n",
              "      <td>...</td>\n",
              "      <td>0</td>\n",
              "      <td>0</td>\n",
              "      <td>0</td>\n",
              "      <td>0</td>\n",
              "      <td>0</td>\n",
              "      <td>0</td>\n",
              "      <td>0</td>\n",
              "      <td>0</td>\n",
              "      <td>0</td>\n",
              "      <td>0</td>\n",
              "    </tr>\n",
              "    <tr>\n",
              "      <th>4</th>\n",
              "      <td>0</td>\n",
              "      <td>0.100000</td>\n",
              "      <td>0.517794</td>\n",
              "      <td>0.00</td>\n",
              "      <td>0.0</td>\n",
              "      <td>0.494734</td>\n",
              "      <td>0.781422</td>\n",
              "      <td>0.154361</td>\n",
              "      <td>0.303809</td>\n",
              "      <td>0.812646</td>\n",
              "      <td>...</td>\n",
              "      <td>0</td>\n",
              "      <td>0</td>\n",
              "      <td>0</td>\n",
              "      <td>0</td>\n",
              "      <td>0</td>\n",
              "      <td>0</td>\n",
              "      <td>0</td>\n",
              "      <td>0</td>\n",
              "      <td>0</td>\n",
              "      <td>0</td>\n",
              "    </tr>\n",
              "  </tbody>\n",
              "</table>\n",
              "<p>5 rows × 1777 columns</p>\n",
              "</div>\n",
              "      <button class=\"colab-df-convert\" onclick=\"convertToInteractive('df-f9600bd8-08ba-46c5-b475-16ff6b5c64b1')\"\n",
              "              title=\"Convert this dataframe to an interactive table.\"\n",
              "              style=\"display:none;\">\n",
              "        \n",
              "  <svg xmlns=\"http://www.w3.org/2000/svg\" height=\"24px\"viewBox=\"0 0 24 24\"\n",
              "       width=\"24px\">\n",
              "    <path d=\"M0 0h24v24H0V0z\" fill=\"none\"/>\n",
              "    <path d=\"M18.56 5.44l.94 2.06.94-2.06 2.06-.94-2.06-.94-.94-2.06-.94 2.06-2.06.94zm-11 1L8.5 8.5l.94-2.06 2.06-.94-2.06-.94L8.5 2.5l-.94 2.06-2.06.94zm10 10l.94 2.06.94-2.06 2.06-.94-2.06-.94-.94-2.06-.94 2.06-2.06.94z\"/><path d=\"M17.41 7.96l-1.37-1.37c-.4-.4-.92-.59-1.43-.59-.52 0-1.04.2-1.43.59L10.3 9.45l-7.72 7.72c-.78.78-.78 2.05 0 2.83L4 21.41c.39.39.9.59 1.41.59.51 0 1.02-.2 1.41-.59l7.78-7.78 2.81-2.81c.8-.78.8-2.07 0-2.86zM5.41 20L4 18.59l7.72-7.72 1.47 1.35L5.41 20z\"/>\n",
              "  </svg>\n",
              "      </button>\n",
              "      \n",
              "  <style>\n",
              "    .colab-df-container {\n",
              "      display:flex;\n",
              "      flex-wrap:wrap;\n",
              "      gap: 12px;\n",
              "    }\n",
              "\n",
              "    .colab-df-convert {\n",
              "      background-color: #E8F0FE;\n",
              "      border: none;\n",
              "      border-radius: 50%;\n",
              "      cursor: pointer;\n",
              "      display: none;\n",
              "      fill: #1967D2;\n",
              "      height: 32px;\n",
              "      padding: 0 0 0 0;\n",
              "      width: 32px;\n",
              "    }\n",
              "\n",
              "    .colab-df-convert:hover {\n",
              "      background-color: #E2EBFA;\n",
              "      box-shadow: 0px 1px 2px rgba(60, 64, 67, 0.3), 0px 1px 3px 1px rgba(60, 64, 67, 0.15);\n",
              "      fill: #174EA6;\n",
              "    }\n",
              "\n",
              "    [theme=dark] .colab-df-convert {\n",
              "      background-color: #3B4455;\n",
              "      fill: #D2E3FC;\n",
              "    }\n",
              "\n",
              "    [theme=dark] .colab-df-convert:hover {\n",
              "      background-color: #434B5C;\n",
              "      box-shadow: 0px 1px 3px 1px rgba(0, 0, 0, 0.15);\n",
              "      filter: drop-shadow(0px 1px 2px rgba(0, 0, 0, 0.3));\n",
              "      fill: #FFFFFF;\n",
              "    }\n",
              "  </style>\n",
              "\n",
              "      <script>\n",
              "        const buttonEl =\n",
              "          document.querySelector('#df-f9600bd8-08ba-46c5-b475-16ff6b5c64b1 button.colab-df-convert');\n",
              "        buttonEl.style.display =\n",
              "          google.colab.kernel.accessAllowed ? 'block' : 'none';\n",
              "\n",
              "        async function convertToInteractive(key) {\n",
              "          const element = document.querySelector('#df-f9600bd8-08ba-46c5-b475-16ff6b5c64b1');\n",
              "          const dataTable =\n",
              "            await google.colab.kernel.invokeFunction('convertToInteractive',\n",
              "                                                     [key], {});\n",
              "          if (!dataTable) return;\n",
              "\n",
              "          const docLinkHtml = 'Like what you see? Visit the ' +\n",
              "            '<a target=\"_blank\" href=https://colab.research.google.com/notebooks/data_table.ipynb>data table notebook</a>'\n",
              "            + ' to learn more about interactive tables.';\n",
              "          element.innerHTML = '';\n",
              "          dataTable['output_type'] = 'display_data';\n",
              "          await google.colab.output.renderOutput(dataTable, element);\n",
              "          const docLink = document.createElement('div');\n",
              "          docLink.innerHTML = docLinkHtml;\n",
              "          element.appendChild(docLink);\n",
              "        }\n",
              "      </script>\n",
              "    </div>\n",
              "  </div>\n",
              "  "
            ]
          },
          "metadata": {},
          "execution_count": 30
        }
      ],
      "source": [
        "data.head()"
      ]
    },
    {
      "cell_type": "code",
      "execution_count": 31,
      "metadata": {
        "id": "MTGau1RK4JUk"
      },
      "outputs": [],
      "source": [
        "# Создаем матрицу наблюдений и ответов\n",
        "X = data.drop(['Activity'], axis=1)\n",
        "y = data['Activity']\n"
      ]
    },
    {
      "cell_type": "code",
      "execution_count": 32,
      "metadata": {
        "id": "yvCqvLmQ4sfz"
      },
      "outputs": [],
      "source": [
        "# Разделение на тренировочную и тестовую выборки\n",
        "X_train, X_test, y_train, y_test = train_test_split(X, y, stratify=y, random_state = 1, test_size = 0.2)"
      ]
    },
    {
      "cell_type": "markdown",
      "metadata": {
        "id": "0DrBiRuR2_Z9"
      },
      "source": []
    },
    {
      "cell_type": "markdown",
      "metadata": {
        "id": "4-SdJmlV5SDU"
      },
      "source": [
        "**ЛОГИСТИЧЕСКАЯ РЕГРЕССИЯ**"
      ]
    },
    {
      "cell_type": "code",
      "execution_count": 33,
      "metadata": {
        "colab": {
          "base_uri": "https://localhost:8080/"
        },
        "id": "mCmOYbJ42vml",
        "outputId": "73c021ef-b7e7-40b0-cc06-81283621e0aa"
      },
      "outputs": [
        {
          "output_type": "stream",
          "name": "stdout",
          "text": [
            "accuracy на тестовом наборе: 0.76\n",
            "f1_score на тестовом наборе: 0.78\n"
          ]
        }
      ],
      "source": [
        "#Создаем объект класса логистическая регрессия\n",
        "log_reg = linear_model.LogisticRegression(max_iter = 500)\n",
        "#Обучаем модель\n",
        "log_reg.fit(X_train, y_train)\n",
        "print(\"accuracy на тестовом наборе: {:.2f}\".format(log_reg.score(X_test, y_test)))\n",
        "y_test_pred = log_reg.predict(X_test)\n",
        "print('f1_score на тестовом наборе: {:.2f}'.format(metrics.f1_score(y_test, y_test_pred)))\n"
      ]
    },
    {
      "cell_type": "markdown",
      "metadata": {
        "id": "HVyQRuab5m3c"
      },
      "source": [
        "**СЛУЧАЙНЫЙ ЛЕС**"
      ]
    },
    {
      "cell_type": "code",
      "execution_count": 34,
      "metadata": {
        "colab": {
          "base_uri": "https://localhost:8080/"
        },
        "id": "eeu2dLmw5mTu",
        "outputId": "a2e3a07a-e31a-4196-bf98-eddc5f33c4e4"
      },
      "outputs": [
        {
          "output_type": "stream",
          "name": "stdout",
          "text": [
            "Train: 1.00\n",
            "Test: 0.81\n"
          ]
        }
      ],
      "source": [
        "#Создаем объект класса случайный лес\n",
        "rf = ensemble.RandomForestClassifier(random_state=42)\n",
        "\n",
        "#Обучаем модель\n",
        "rf.fit(X_train, y_train)\n",
        "#Выводим значения метрики \n",
        "y_train_pred = rf.predict(X_train)\n",
        "print('Train: {:.2f}'.format(metrics.f1_score(y_train, y_train_pred)))\n",
        "y_test_pred = rf.predict(X_test)\n",
        "print('Test: {:.2f}'.format(metrics.f1_score(y_test, y_test_pred)))\n"
      ]
    },
    {
      "cell_type": "markdown",
      "source": [
        "Случайный лес даже с параметрами по умолчанию дает очень высокие результаты, как для тренировочной, так и для тестовой выборки"
      ],
      "metadata": {
        "id": "sWQk5qh3POoe"
      }
    },
    {
      "cell_type": "markdown",
      "metadata": {
        "id": "2ZU3ipb-6P4s"
      },
      "source": [
        "**GridSearchCV**"
      ]
    },
    {
      "cell_type": "markdown",
      "metadata": {
        "id": "lbFSjtNb8L-b"
      },
      "source": [
        "Использование поиска по сетке GridSearchCV для модели логистической регрессии\n",
        "\n",
        "\n"
      ]
    },
    {
      "cell_type": "code",
      "execution_count": null,
      "metadata": {
        "colab": {
          "base_uri": "https://localhost:8080/"
        },
        "id": "kITXnx6k577E",
        "outputId": "d6adc0f6-fc8b-4f1a-98ba-4b62a5521a78"
      },
      "outputs": [
        {
          "output_type": "stream",
          "name": "stdout",
          "text": [
            "CPU times: user 1min 56s, sys: 2.41 s, total: 1min 59s\n",
            "Wall time: 1h 6min 16s\n",
            "accuracy на тестовом наборе: 0.76\n",
            "f1_score на тестовом наборе: 0.78\n",
            "Наилучшие значения гиперпараметров: {'C': 0.3, 'penalty': 'l1', 'solver': 'saga'}\n"
          ]
        },
        {
          "output_type": "stream",
          "name": "stderr",
          "text": [
            "/usr/local/lib/python3.8/dist-packages/sklearn/linear_model/_sag.py:352: ConvergenceWarning: The max_iter was reached which means the coef_ did not converge\n",
            "  warnings.warn(\n"
          ]
        }
      ],
      "source": [
        "from sklearn.model_selection import GridSearchCV\n",
        "\n",
        "param_grid = [\n",
        "              {'penalty': ['l2', 'none'] , # тип регуляризации\n",
        "              'solver': ['lbfgs', 'sag'], # алгоритм оптимизации\n",
        "               'C': [0.01, 0.3, 0.5, 0.7, 1]}, # уровень силы регурялизации\n",
        "              \n",
        "              {'penalty': ['l1', 'l2'] ,\n",
        "              'solver': ['liblinear', 'saga'],\n",
        "               'C': [0.01, 0.3, 0.5, 0.7, 1]}\n",
        "]\n",
        "grid_search = GridSearchCV(\n",
        "    estimator=linear_model.LogisticRegression(random_state=1, max_iter=500), \n",
        "    param_grid=param_grid, \n",
        "    cv=5, \n",
        "    n_jobs = -1\n",
        ")  \n",
        "%time grid_search.fit(X_train, y_train) \n",
        "print(\"accuracy на тестовом наборе: {:.2f}\".format(grid_search.score(X_test, y_test)))\n",
        "y_test_pred = grid_search.predict(X_test)\n",
        "print('f1_score на тестовом наборе: {:.2f}'.format(metrics.f1_score(y_test, y_test_pred)))\n",
        "print(\"Наилучшие значения гиперпараметров: {}\".format(grid_search.best_params_))"
      ]
    },
    {
      "cell_type": "markdown",
      "source": [
        "Использование поиска посетке GridSearchCV  не улучшило результат модели логистическая регрессия"
      ],
      "metadata": {
        "id": "3RYuW5I4e3BK"
      }
    },
    {
      "cell_type": "code",
      "execution_count": null,
      "metadata": {
        "colab": {
          "base_uri": "https://localhost:8080/"
        },
        "id": "qBBwpQXx9uOF",
        "outputId": "9bde96d3-9a16-473c-ef17-aaa0bbe1450c"
      },
      "outputs": [
        {
          "output_type": "stream",
          "name": "stdout",
          "text": [
            "Наилучшая модель:\n",
            "LogisticRegression(C=0.3, max_iter=1000, penalty='l1', random_state=1,\n",
            "                   solver='saga')\n"
          ]
        }
      ],
      "source": [
        "print(\"Наилучшая модель:\\n{}\".format(grid_search.best_estimator_))"
      ]
    },
    {
      "cell_type": "markdown",
      "metadata": {
        "id": "wiuyg2jt8e6b"
      },
      "source": [
        "Использование поиска по сетке GridSearchCV для модели случайный лес"
      ]
    },
    {
      "cell_type": "code",
      "execution_count": 35,
      "metadata": {
        "colab": {
          "base_uri": "https://localhost:8080/"
        },
        "id": "GCZJGhXj8iAr",
        "outputId": "bd15b51f-a00c-4ac1-d267-70f7b9bb758b"
      },
      "outputs": [
        {
          "output_type": "stream",
          "name": "stdout",
          "text": [
            "CPU times: user 8.46 s, sys: 706 ms, total: 9.17 s\n",
            "Wall time: 13min 7s\n",
            "accuracy на тестовом наборе: 0.81\n",
            "f1_score на тестовом наборе: 0.83\n",
            "Наилучшие значения гиперпараметров: {'max_depth': 20, 'min_samples_leaf': 2, 'n_estimators': 140}\n"
          ]
        }
      ],
      "source": [
        "param_grid = {'n_estimators': list(range(80, 200, 30)),\n",
        "              'min_samples_leaf': list(range(2, 7, 2)),\n",
        "              'max_depth': list(np.linspace(20, 40, 10, dtype=int))\n",
        "              }\n",
        "grid_search = GridSearchCV(\n",
        "    estimator=ensemble.RandomForestClassifier(random_state=42), \n",
        "    param_grid=param_grid, \n",
        "    cv=5, \n",
        "    n_jobs = -1\n",
        ")  \n",
        "%time grid_search.fit(X_train, y_train) \n",
        "print(\"accuracy на тестовом наборе: {:.2f}\".format(grid_search.score(X_test, y_test)))\n",
        "y_test_pred = grid_search.predict(X_test)\n",
        "print('f1_score на тестовом наборе: {:.2f}'.format(metrics.f1_score(y_test, y_test_pred)))\n",
        "print(\"Наилучшие значения гиперпараметров: {}\".format(grid_search.best_params_))"
      ]
    },
    {
      "cell_type": "markdown",
      "source": [
        "На тестовом наборе результат с использованием поиска по сетке GridSearchCV получился лучше"
      ],
      "metadata": {
        "id": "aTAmEAg6xCps"
      }
    },
    {
      "cell_type": "code",
      "execution_count": null,
      "metadata": {
        "colab": {
          "base_uri": "https://localhost:8080/"
        },
        "id": "6FDqpC3Y9vtz",
        "outputId": "cef0aed7-330c-4def-b7b7-ca6b767baf33"
      },
      "outputs": [
        {
          "output_type": "stream",
          "name": "stdout",
          "text": [
            "Наилучшая модель:\n",
            "RandomForestClassifier(max_depth=20, min_samples_leaf=2, n_estimators=140,\n",
            "                       random_state=42)\n"
          ]
        }
      ],
      "source": [
        "print(\"Наилучшая модель:\\n{}\".format(grid_search.best_estimator_))"
      ]
    },
    {
      "cell_type": "markdown",
      "metadata": {
        "id": "za7whZoA93lT"
      },
      "source": [
        "**RandomizedSearchCV**"
      ]
    },
    {
      "cell_type": "markdown",
      "metadata": {
        "id": "--96gK2E98Qz"
      },
      "source": [
        "Использование поиска по сетке RandomizedSearchCV для модели логистической регрессии"
      ]
    },
    {
      "cell_type": "code",
      "execution_count": 36,
      "metadata": {
        "id": "xVcZDekA97yT",
        "colab": {
          "base_uri": "https://localhost:8080/"
        },
        "outputId": "942ebef4-0833-44b9-8b18-40315bb64948"
      },
      "outputs": [
        {
          "output_type": "stream",
          "name": "stdout",
          "text": [
            "CPU times: user 6.18 s, sys: 785 ms, total: 6.96 s\n",
            "Wall time: 6min 36s\n",
            "accuracy на тестовом наборе: 0.76\n",
            "f1_score на тестовом наборе: 0.78\n",
            "Наилучшие значения гиперпараметров: {'solver': 'lbfgs', 'penalty': 'l2', 'C': 0.23}\n"
          ]
        }
      ],
      "source": [
        "from sklearn.model_selection import RandomizedSearchCV\n",
        "\n",
        "param_distributions = {'penalty': ['l2', 'none'] ,\n",
        "              'solver': ['lbfgs', 'sag'],\n",
        "               'C': list(np.linspace(0.01, 1, 10, dtype=float))},\n",
        "            \n",
        "random_search = RandomizedSearchCV(\n",
        "    estimator=linear_model.LogisticRegression(random_state=42, max_iter=500), \n",
        "    param_distributions=param_distributions, \n",
        "    cv=5, \n",
        "    n_iter = 10, \n",
        "    n_jobs = -1\n",
        ")  \n",
        "%time random_search.fit(X_train, y_train) \n",
        "print(\"accuracy на тестовом наборе: {:.2f}\".format(random_search.score(X_test, y_test)))\n",
        "y_test_pred = random_search.predict(X_test)\n",
        "print('f1_score на тестовом наборе: {:.2f}'.format(metrics.f1_score(y_test, y_test_pred)))\n",
        "print(\"Наилучшие значения гиперпараметров: {}\".format(random_search.best_params_))"
      ]
    },
    {
      "cell_type": "markdown",
      "source": [
        "Использования RandomizedSearchCV  не дало улучшений, но ускорило процесс рассчета"
      ],
      "metadata": {
        "id": "VZ_HB0vI1IAd"
      }
    },
    {
      "cell_type": "markdown",
      "metadata": {
        "id": "-pU8eUZmgEHz"
      },
      "source": [
        "Использование поиска по сетке RandomizedSearchCV для модели случайный лес"
      ]
    },
    {
      "cell_type": "code",
      "execution_count": 37,
      "metadata": {
        "id": "UMaa0u_Uh49B",
        "colab": {
          "base_uri": "https://localhost:8080/"
        },
        "outputId": "437d5aac-a5e0-4af1-ae8f-550c0571c564"
      },
      "outputs": [
        {
          "output_type": "stream",
          "name": "stdout",
          "text": [
            "CPU times: user 3.07 s, sys: 145 ms, total: 3.22 s\n",
            "Wall time: 1min 27s\n",
            "f1_score на обучающем наборе: 0.99\n",
            "accuracy на тестовом наборе: 0.80\n",
            "f1_score на тестовом наборе: 0.82\n",
            "Наилучшие значения гиперпараметров: {'n_estimators': 140, 'min_samples_leaf': 2, 'max_depth': 35}\n"
          ]
        }
      ],
      "source": [
        "param_grid = {'n_estimators': list(range(80, 200, 30)),\n",
        "              'min_samples_leaf': list(range(2, 7, 2)),\n",
        "              'max_depth': list(np.linspace(20, 40, 10, dtype=int))\n",
        "              }\n",
        "            \n",
        "random_search_forest = RandomizedSearchCV(\n",
        "    estimator=ensemble.RandomForestClassifier(random_state=42), \n",
        "    param_distributions=param_grid, \n",
        "    cv=5,\n",
        "    n_jobs = -1\n",
        ")  \n",
        "%time random_search_forest.fit(X_train, y_train) \n",
        "y_train_pred = random_search_forest.predict(X_train)\n",
        "print('f1_score на обучающем наборе: {:.2f}'.format(metrics.f1_score(y_train, y_train_pred)))\n",
        "print(\"accuracy на тестовом наборе: {:.2f}\".format(random_search_forest.score(X_test, y_test)))\n",
        "y_test_pred = random_search_forest.predict(X_test)\n",
        "print('f1_score на тестовом наборе: {:.2f}'.format(metrics.f1_score(y_test, y_test_pred)))\n",
        "print(\"Наилучшие значения гиперпараметров: {}\".format(random_search_forest.best_params_))"
      ]
    },
    {
      "cell_type": "markdown",
      "source": [
        "Для случайного леса использование RandomizedSearchCV привело к ухудшению результата"
      ],
      "metadata": {
        "id": "8jDBLc9y1eC1"
      }
    },
    {
      "cell_type": "markdown",
      "metadata": {
        "id": "53Yt_sP0ibDI"
      },
      "source": [
        "**Hyperopt**"
      ]
    },
    {
      "cell_type": "code",
      "execution_count": 38,
      "metadata": {
        "id": "9PCBuiKTicr4",
        "colab": {
          "base_uri": "https://localhost:8080/"
        },
        "outputId": "1208a5e6-37a2-4094-d79a-ba478991acf8"
      },
      "outputs": [
        {
          "output_type": "stream",
          "name": "stdout",
          "text": [
            "Looking in indexes: https://pypi.org/simple, https://us-python.pkg.dev/colab-wheels/public/simple/\n",
            "Requirement already satisfied: hyperopt in /usr/local/lib/python3.8/dist-packages (0.1.2)\n",
            "Requirement already satisfied: six in /usr/local/lib/python3.8/dist-packages (from hyperopt) (1.15.0)\n",
            "Requirement already satisfied: pymongo in /usr/local/lib/python3.8/dist-packages (from hyperopt) (4.3.3)\n",
            "Requirement already satisfied: numpy in /usr/local/lib/python3.8/dist-packages (from hyperopt) (1.21.6)\n",
            "Requirement already satisfied: networkx in /usr/local/lib/python3.8/dist-packages (from hyperopt) (3.0)\n",
            "Requirement already satisfied: future in /usr/local/lib/python3.8/dist-packages (from hyperopt) (0.16.0)\n",
            "Requirement already satisfied: tqdm in /usr/local/lib/python3.8/dist-packages (from hyperopt) (4.64.1)\n",
            "Requirement already satisfied: scipy in /usr/local/lib/python3.8/dist-packages (from hyperopt) (1.7.3)\n",
            "Requirement already satisfied: dnspython<3.0.0,>=1.16.0 in /usr/local/lib/python3.8/dist-packages (from pymongo->hyperopt) (2.3.0)\n"
          ]
        }
      ],
      "source": [
        "# Устанавливаем библиотеку\n",
        "!pip install hyperopt"
      ]
    },
    {
      "cell_type": "code",
      "execution_count": 50,
      "metadata": {
        "id": "AsuUcBZUinmQ"
      },
      "outputs": [],
      "source": [
        "#делаем импорт \n",
        "from sklearn.model_selection import cross_val_score\n",
        "import hyperopt\n",
        "from hyperopt import hp, fmin, tpe, Trials"
      ]
    },
    {
      "cell_type": "markdown",
      "metadata": {
        "id": "r7CurtFEi2ia"
      },
      "source": [
        "Использование поиска гиперпараметров для модели логистической регрессии"
      ]
    },
    {
      "cell_type": "code",
      "execution_count": 51,
      "metadata": {
        "id": "C1QcpPfdi-hI"
      },
      "outputs": [],
      "source": [
        "# зададим пространство поиска гиперпараметров\n",
        "space={'penalty': hp.choice('penalty', ['l2', 'none']),\n",
        "       'solver': hp.choice('solver', ['lbfgs', 'sag']),\n",
        "       'C': hp.quniform('C', 0.01, 1, 0.2) \n",
        "    \n",
        "      }"
      ]
    },
    {
      "cell_type": "code",
      "source": [
        "random_state = 42\n",
        "def hyperopt_rf(params, cv=5, X=X_train, y=y_train, random_state=random_state):\n",
        "    # функция получает комбинацию гиперпараметров в \"params\"\n",
        "    params = {'penalty': params['penalty'], \n",
        "              'solver': params['solver'], \n",
        "             'C': params['C']\n",
        "              }\n",
        "  \n",
        "    # используем эту комбинацию для построения модели\n",
        "    model = linear_model.LogisticRegression(**params, random_state=random_state, max_iter=500)\n",
        "\n",
        "    # обучаем модель\n",
        "    model.fit(X, y)\n",
        "    # используем кросс валидацию\n",
        "    score = cross_val_score(model, X, y, cv=cv, scoring=\"f1\", n_jobs=-1).mean()\n",
        "\n",
        "    # метрику необходимо минимизировать, поэтому ставим знак минус\n",
        "    return -score"
      ],
      "metadata": {
        "id": "rigEf7tXOnDm"
      },
      "execution_count": 52,
      "outputs": []
    },
    {
      "cell_type": "code",
      "source": [
        "# начинаем подбор гиперпараметров\n",
        "\n",
        "trials = Trials() # используется для логирования результатов\n",
        "\n",
        "best=fmin(hyperopt_rf, # наша функция \n",
        "          space=space, # пространство гиперпараметров\n",
        "          algo=tpe.suggest, # алгоритм оптимизации, установлен по умолчанию, задавать необязательно\n",
        "          max_evals=20, # максимальное количество итераций\n",
        "          trials=trials, # логирование результатов\n",
        "          rstate=np.random.RandomState(random_state)# фиксируем для повторяемости результата\n",
        "         )\n",
        "print(\"Наилучшие значения гиперпараметров {}\".format(best))"
      ],
      "metadata": {
        "id": "x878qb8xQBN-",
        "colab": {
          "base_uri": "https://localhost:8080/"
        },
        "outputId": "83aa6461-c0d7-4dba-9003-b7fcc4c9fd8b"
      },
      "execution_count": 53,
      "outputs": [
        {
          "output_type": "stream",
          "name": "stdout",
          "text": [
            "\r  0%|          | 0/20 [00:00<?, ?it/s, best loss: ?]"
          ]
        },
        {
          "output_type": "stream",
          "name": "stderr",
          "text": [
            "/usr/local/lib/python3.8/dist-packages/sklearn/linear_model/_logistic.py:1483: UserWarning: Setting penalty='none' will ignore the C and l1_ratio parameters\n",
            "  warnings.warn(\n",
            "\n",
            "/usr/local/lib/python3.8/dist-packages/sklearn/linear_model/_sag.py:352: ConvergenceWarning: The max_iter was reached which means the coef_ did not converge\n",
            "  warnings.warn(\n",
            "\n"
          ]
        },
        {
          "output_type": "stream",
          "name": "stdout",
          "text": [
            "\r  5%|▌         | 1/20 [02:30<47:45, 150.80s/it, best loss: -0.7544379322411678]"
          ]
        },
        {
          "output_type": "stream",
          "name": "stderr",
          "text": [
            "/usr/local/lib/python3.8/dist-packages/sklearn/linear_model/_logistic.py:1483: UserWarning: Setting penalty='none' will ignore the C and l1_ratio parameters\n",
            "  warnings.warn(\n",
            "\n",
            "/usr/local/lib/python3.8/dist-packages/sklearn/linear_model/_logistic.py:814: ConvergenceWarning: lbfgs failed to converge (status=1):\n",
            "STOP: TOTAL NO. of ITERATIONS REACHED LIMIT.\n",
            "\n",
            "Increase the number of iterations (max_iter) or scale the data as shown in:\n",
            "    https://scikit-learn.org/stable/modules/preprocessing.html\n",
            "Please also refer to the documentation for alternative solver options:\n",
            "    https://scikit-learn.org/stable/modules/linear_model.html#logistic-regression\n",
            "  n_iter_i = _check_optimize_result(\n",
            "\n"
          ]
        },
        {
          "output_type": "stream",
          "name": "stdout",
          "text": [
            " 15%|█▌        | 3/20 [03:10<13:50, 48.88s/it, best loss: -0.7701939560293272]"
          ]
        },
        {
          "output_type": "stream",
          "name": "stderr",
          "text": [
            "/usr/local/lib/python3.8/dist-packages/sklearn/linear_model/_logistic.py:814: ConvergenceWarning: lbfgs failed to converge (status=1):\n",
            "STOP: TOTAL NO. of ITERATIONS REACHED LIMIT.\n",
            "\n",
            "Increase the number of iterations (max_iter) or scale the data as shown in:\n",
            "    https://scikit-learn.org/stable/modules/preprocessing.html\n",
            "Please also refer to the documentation for alternative solver options:\n",
            "    https://scikit-learn.org/stable/modules/linear_model.html#logistic-regression\n",
            "  n_iter_i = _check_optimize_result(\n",
            "\n"
          ]
        },
        {
          "output_type": "stream",
          "name": "stdout",
          "text": [
            " 25%|██▌       | 5/20 [05:47<18:11, 72.75s/it, best loss: -0.780405231130305] "
          ]
        },
        {
          "output_type": "stream",
          "name": "stderr",
          "text": [
            "/usr/local/lib/python3.8/dist-packages/sklearn/linear_model/_sag.py:352: ConvergenceWarning: The max_iter was reached which means the coef_ did not converge\n",
            "  warnings.warn(\n",
            "\n"
          ]
        },
        {
          "output_type": "stream",
          "name": "stdout",
          "text": [
            " 35%|███▌      | 7/20 [08:29<15:28, 71.43s/it, best loss: -0.780405231130305]"
          ]
        },
        {
          "output_type": "stream",
          "name": "stderr",
          "text": [
            "/usr/local/lib/python3.8/dist-packages/sklearn/linear_model/_logistic.py:1483: UserWarning: Setting penalty='none' will ignore the C and l1_ratio parameters\n",
            "  warnings.warn(\n",
            "\n",
            "/usr/local/lib/python3.8/dist-packages/sklearn/linear_model/_logistic.py:814: ConvergenceWarning: lbfgs failed to converge (status=1):\n",
            "STOP: TOTAL NO. of ITERATIONS REACHED LIMIT.\n",
            "\n",
            "Increase the number of iterations (max_iter) or scale the data as shown in:\n",
            "    https://scikit-learn.org/stable/modules/preprocessing.html\n",
            "Please also refer to the documentation for alternative solver options:\n",
            "    https://scikit-learn.org/stable/modules/linear_model.html#logistic-regression\n",
            "  n_iter_i = _check_optimize_result(\n",
            "\n"
          ]
        },
        {
          "output_type": "stream",
          "name": "stdout",
          "text": [
            " 45%|████▌     | 9/20 [09:10<08:04, 44.00s/it, best loss: -0.780405231130305]"
          ]
        },
        {
          "output_type": "stream",
          "name": "stderr",
          "text": [
            "/usr/local/lib/python3.8/dist-packages/sklearn/linear_model/_logistic.py:1483: UserWarning: Setting penalty='none' will ignore the C and l1_ratio parameters\n",
            "  warnings.warn(\n",
            "\n",
            "/usr/local/lib/python3.8/dist-packages/sklearn/linear_model/_logistic.py:814: ConvergenceWarning: lbfgs failed to converge (status=1):\n",
            "STOP: TOTAL NO. of ITERATIONS REACHED LIMIT.\n",
            "\n",
            "Increase the number of iterations (max_iter) or scale the data as shown in:\n",
            "    https://scikit-learn.org/stable/modules/preprocessing.html\n",
            "Please also refer to the documentation for alternative solver options:\n",
            "    https://scikit-learn.org/stable/modules/linear_model.html#logistic-regression\n",
            "  n_iter_i = _check_optimize_result(\n",
            "\n"
          ]
        },
        {
          "output_type": "stream",
          "name": "stdout",
          "text": [
            " 55%|█████▌    | 11/20 [11:36<09:35, 63.98s/it, best loss: -0.780405231130305]"
          ]
        },
        {
          "output_type": "stream",
          "name": "stderr",
          "text": [
            "/usr/local/lib/python3.8/dist-packages/sklearn/linear_model/_logistic.py:1483: UserWarning: Setting penalty='none' will ignore the C and l1_ratio parameters\n",
            "  warnings.warn(\n",
            "\n",
            "/usr/local/lib/python3.8/dist-packages/sklearn/linear_model/_logistic.py:814: ConvergenceWarning: lbfgs failed to converge (status=1):\n",
            "STOP: TOTAL NO. of ITERATIONS REACHED LIMIT.\n",
            "\n",
            "Increase the number of iterations (max_iter) or scale the data as shown in:\n",
            "    https://scikit-learn.org/stable/modules/preprocessing.html\n",
            "Please also refer to the documentation for alternative solver options:\n",
            "    https://scikit-learn.org/stable/modules/linear_model.html#logistic-regression\n",
            "  n_iter_i = _check_optimize_result(\n",
            "\n"
          ]
        },
        {
          "output_type": "stream",
          "name": "stdout",
          "text": [
            "\r 60%|██████    | 12/20 [11:59<06:51, 51.43s/it, best loss: -0.780405231130305]"
          ]
        },
        {
          "output_type": "stream",
          "name": "stderr",
          "text": [
            "/usr/local/lib/python3.8/dist-packages/sklearn/linear_model/_logistic.py:1483: UserWarning: Setting penalty='none' will ignore the C and l1_ratio parameters\n",
            "  warnings.warn(\n",
            "\n",
            "/usr/local/lib/python3.8/dist-packages/sklearn/linear_model/_sag.py:352: ConvergenceWarning: The max_iter was reached which means the coef_ did not converge\n",
            "  warnings.warn(\n",
            "\n"
          ]
        },
        {
          "output_type": "stream",
          "name": "stdout",
          "text": [
            "\r 65%|██████▌   | 13/20 [14:21<09:12, 78.88s/it, best loss: -0.780405231130305]"
          ]
        },
        {
          "output_type": "stream",
          "name": "stderr",
          "text": [
            "/usr/local/lib/python3.8/dist-packages/sklearn/linear_model/_logistic.py:1483: UserWarning: Setting penalty='none' will ignore the C and l1_ratio parameters\n",
            "  warnings.warn(\n",
            "\n",
            "/usr/local/lib/python3.8/dist-packages/sklearn/linear_model/_logistic.py:814: ConvergenceWarning: lbfgs failed to converge (status=1):\n",
            "STOP: TOTAL NO. of ITERATIONS REACHED LIMIT.\n",
            "\n",
            "Increase the number of iterations (max_iter) or scale the data as shown in:\n",
            "    https://scikit-learn.org/stable/modules/preprocessing.html\n",
            "Please also refer to the documentation for alternative solver options:\n",
            "    https://scikit-learn.org/stable/modules/linear_model.html#logistic-regression\n",
            "  n_iter_i = _check_optimize_result(\n",
            "\n"
          ]
        },
        {
          "output_type": "stream",
          "name": "stdout",
          "text": [
            "\r 70%|███████   | 14/20 [14:44<06:12, 62.04s/it, best loss: -0.780405231130305]"
          ]
        },
        {
          "output_type": "stream",
          "name": "stderr",
          "text": [
            "/usr/local/lib/python3.8/dist-packages/sklearn/linear_model/_logistic.py:814: ConvergenceWarning: lbfgs failed to converge (status=1):\n",
            "STOP: TOTAL NO. of ITERATIONS REACHED LIMIT.\n",
            "\n",
            "Increase the number of iterations (max_iter) or scale the data as shown in:\n",
            "    https://scikit-learn.org/stable/modules/preprocessing.html\n",
            "Please also refer to the documentation for alternative solver options:\n",
            "    https://scikit-learn.org/stable/modules/linear_model.html#logistic-regression\n",
            "  n_iter_i = _check_optimize_result(\n",
            "\n"
          ]
        },
        {
          "output_type": "stream",
          "name": "stdout",
          "text": [
            " 80%|████████  | 16/20 [15:22<02:38, 39.69s/it, best loss: -0.780405231130305]"
          ]
        },
        {
          "output_type": "stream",
          "name": "stderr",
          "text": [
            "/usr/local/lib/python3.8/dist-packages/sklearn/linear_model/_logistic.py:1483: UserWarning: Setting penalty='none' will ignore the C and l1_ratio parameters\n",
            "  warnings.warn(\n",
            "\n",
            "/usr/local/lib/python3.8/dist-packages/sklearn/linear_model/_sag.py:352: ConvergenceWarning: The max_iter was reached which means the coef_ did not converge\n",
            "  warnings.warn(\n",
            "\n"
          ]
        },
        {
          "output_type": "stream",
          "name": "stdout",
          "text": [
            " 90%|█████████ | 18/20 [18:01<01:48, 54.14s/it, best loss: -0.780405231130305]"
          ]
        },
        {
          "output_type": "stream",
          "name": "stderr",
          "text": [
            "/usr/local/lib/python3.8/dist-packages/sklearn/linear_model/_sag.py:352: ConvergenceWarning: The max_iter was reached which means the coef_ did not converge\n",
            "  warnings.warn(\n",
            "\n"
          ]
        },
        {
          "output_type": "stream",
          "name": "stdout",
          "text": [
            "\r 95%|█████████▌| 19/20 [20:22<01:20, 80.28s/it, best loss: -0.780405231130305]"
          ]
        },
        {
          "output_type": "stream",
          "name": "stderr",
          "text": [
            "/usr/local/lib/python3.8/dist-packages/sklearn/linear_model/_logistic.py:1483: UserWarning: Setting penalty='none' will ignore the C and l1_ratio parameters\n",
            "  warnings.warn(\n",
            "\n",
            "/usr/local/lib/python3.8/dist-packages/sklearn/linear_model/_logistic.py:814: ConvergenceWarning: lbfgs failed to converge (status=1):\n",
            "STOP: TOTAL NO. of ITERATIONS REACHED LIMIT.\n",
            "\n",
            "Increase the number of iterations (max_iter) or scale the data as shown in:\n",
            "    https://scikit-learn.org/stable/modules/preprocessing.html\n",
            "Please also refer to the documentation for alternative solver options:\n",
            "    https://scikit-learn.org/stable/modules/linear_model.html#logistic-regression\n",
            "  n_iter_i = _check_optimize_result(\n",
            "\n"
          ]
        },
        {
          "output_type": "stream",
          "name": "stdout",
          "text": [
            "100%|██████████| 20/20 [20:44<00:00, 62.25s/it, best loss: -0.780405231130305]\n",
            "Наилучшие значения гиперпараметров {'C': 0.2, 'penalty': 0, 'solver': 1}\n"
          ]
        }
      ]
    },
    {
      "cell_type": "code",
      "source": [
        "_penalty= ['l2', 'none']\n",
        "_solver= ['lbfgs', 'sag']\n",
        "# рассчитаем точность для тестовой выборки\n",
        "model = linear_model.LogisticRegression(\n",
        "    random_state=random_state, \n",
        "    penalty=_penalty[best['penalty']],\n",
        "    solver=_solver[best['solver']],\n",
        "    C=best['C'],\n",
        "    max_iter=500\n",
        ")\n",
        "model.fit(X_train, y_train)\n",
        "y_train_pred = model.predict(X_train)\n",
        "print('f1_score на обучающем наборе: {:.2f}'.format(metrics.f1_score(y_train, y_train_pred)))\n",
        "print(\"accuracy на тестовом наборе: {:.2f}\".format(model.score(X_test, y_test)))\n",
        "y_test_pred = model.predict(X_test)\n",
        "print('f1_score на тестовом наборе: {:.2f}'.format(metrics.f1_score(y_test, y_test_pred)))"
      ],
      "metadata": {
        "id": "2s524R-JQdf2",
        "colab": {
          "base_uri": "https://localhost:8080/"
        },
        "outputId": "485b800f-b2bf-452d-9340-fe6ff8f5f9ec"
      },
      "execution_count": 54,
      "outputs": [
        {
          "output_type": "stream",
          "name": "stdout",
          "text": [
            "f1_score на обучающем наборе: 0.86\n",
            "accuracy на тестовом наборе: 0.76\n",
            "f1_score на тестовом наборе: 0.78\n"
          ]
        }
      ]
    },
    {
      "cell_type": "markdown",
      "source": [
        "Улучшения не произошло"
      ],
      "metadata": {
        "id": "_xuj3O4oGO6f"
      }
    },
    {
      "cell_type": "markdown",
      "source": [
        "Использование поиска гиперпараметров для модели случайный лес\n",
        "\n"
      ],
      "metadata": {
        "id": "r3PFwgkwRCOW"
      }
    },
    {
      "cell_type": "code",
      "source": [
        "# зададим пространство поиска гиперпараметров\n",
        "space={'n_estimators': hp.quniform('n_estimators', 80, 200, 30),\n",
        "       'max_depth' : hp.quniform('max_depth', 20, 40, 10),\n",
        "       'min_samples_leaf': hp.quniform('min_samples_leaf', 2, 7, 2)\n",
        "      }"
      ],
      "metadata": {
        "id": "EitqGaxoRBvv"
      },
      "execution_count": 45,
      "outputs": []
    },
    {
      "cell_type": "code",
      "source": [
        "# зафксируем random_state\n",
        "random_state = 42\n",
        "def hyperopt_rf(params, cv=5, X=X_train, y=y_train, random_state=random_state):\n",
        "    # функция получает комбинацию гиперпараметров в \"params\"\n",
        "    params = {'n_estimators': int(params['n_estimators']), \n",
        "              'max_depth': int(params['max_depth']), \n",
        "             'min_samples_leaf': int(params['min_samples_leaf'])\n",
        "              }\n",
        "  \n",
        "    # используем эту комбинацию для построения модели\n",
        "    model = ensemble.RandomForestClassifier(**params, random_state=random_state)\n",
        "\n",
        "    # обучаем модель\n",
        "    model.fit(X, y)\n",
        "    score = cross_val_score(model, X, y, cv=cv, scoring=\"f1\", n_jobs=-1).mean()\n",
        "\n",
        "    # метрику необходимо минимизировать, поэтому ставим знак минус\n",
        "    return -score"
      ],
      "metadata": {
        "id": "zXZFraHURYQ-"
      },
      "execution_count": 46,
      "outputs": []
    },
    {
      "cell_type": "code",
      "source": [
        "# начинаем подбор гиперпараметров\n",
        "\n",
        "trials = Trials() # используется для логирования результатов\n",
        "\n",
        "best=fmin(hyperopt_rf, # наша функция \n",
        "          space=space, # пространство гиперпараметров\n",
        "          algo=tpe.suggest, # алгоритм оптимизации, установлен по умолчанию, задавать необязательно\n",
        "          max_evals=20, # максимальное количество итераций\n",
        "          trials=trials, # логирование результатов\n",
        "          rstate=np.random.RandomState(random_state)# фиксируем для повторяемости результата\n",
        "         )\n",
        "print(\"Наилучшие значения гиперпараметров {}\".format(best))"
      ],
      "metadata": {
        "id": "QiTM1n9yRgx2",
        "colab": {
          "base_uri": "https://localhost:8080/"
        },
        "outputId": "a088451c-dfee-425e-caac-3a5e1c7efabc"
      },
      "execution_count": 47,
      "outputs": [
        {
          "output_type": "stream",
          "name": "stdout",
          "text": [
            "100%|██████████| 20/20 [03:51<00:00, 11.57s/it, best loss: -0.8122091624682255]\n",
            "Наилучшие значения гиперпараметров {'max_depth': 30.0, 'min_samples_leaf': 2.0, 'n_estimators': 180.0}\n"
          ]
        }
      ]
    },
    {
      "cell_type": "markdown",
      "source": [
        "Улучшения не произошло"
      ],
      "metadata": {
        "id": "-XUD_LDV__tI"
      }
    },
    {
      "cell_type": "code",
      "source": [
        "# рассчитаем точность для тестовой выборки\n",
        "model = ensemble.RandomForestClassifier(\n",
        "    random_state=random_state, \n",
        "    n_estimators=int(best['n_estimators']),\n",
        "    max_depth=int(best['max_depth']),\n",
        "    min_samples_leaf=int(best['min_samples_leaf'])\n",
        ")\n",
        "model.fit(X_train, y_train)\n",
        "y_train_pred = model.predict(X_train)\n",
        "print('f1_score на обучающем наборе: {:.2f}'.format(metrics.f1_score(y_train, y_train_pred)))\n",
        "print(\"accuracy на тестовом наборе: {:.2f}\".format(model.score(X_test, y_test)))\n",
        "y_test_pred = model.predict(X_test)\n",
        "print('f1_score на тестовом наборе: {:.2f}'.format(metrics.f1_score(y_test, y_test_pred)))"
      ],
      "metadata": {
        "id": "oxJpkywYRpH-",
        "colab": {
          "base_uri": "https://localhost:8080/"
        },
        "outputId": "87b4ea7e-dd5a-4927-df26-720c21dadcca"
      },
      "execution_count": 48,
      "outputs": [
        {
          "output_type": "stream",
          "name": "stdout",
          "text": [
            "f1_score на обучающем наборе: 0.99\n",
            "accuracy на тестовом наборе: 0.80\n",
            "f1_score на тестовом наборе: 0.82\n"
          ]
        }
      ]
    },
    {
      "cell_type": "markdown",
      "source": [
        "**Optuna**"
      ],
      "metadata": {
        "id": "wMpeWtchS9ne"
      }
    },
    {
      "cell_type": "code",
      "source": [
        "# Устанавливаем библиотеку\n",
        "!pip install optuna"
      ],
      "metadata": {
        "id": "q9bMI8j4S9SP",
        "colab": {
          "base_uri": "https://localhost:8080/"
        },
        "outputId": "8bb307a9-93ce-4fc7-d2a5-51748a779352"
      },
      "execution_count": 55,
      "outputs": [
        {
          "output_type": "stream",
          "name": "stdout",
          "text": [
            "Looking in indexes: https://pypi.org/simple, https://us-python.pkg.dev/colab-wheels/public/simple/\n",
            "Collecting optuna\n",
            "  Downloading optuna-3.1.0-py3-none-any.whl (365 kB)\n",
            "\u001b[2K     \u001b[90m━━━━━━━━━━━━━━━━━━━━━━━━━━━━━━━━━━━━━━━\u001b[0m \u001b[32m365.3/365.3 KB\u001b[0m \u001b[31m7.2 MB/s\u001b[0m eta \u001b[36m0:00:00\u001b[0m\n",
            "\u001b[?25hRequirement already satisfied: numpy in /usr/local/lib/python3.8/dist-packages (from optuna) (1.21.6)\n",
            "Collecting alembic>=1.5.0\n",
            "  Downloading alembic-1.9.2-py3-none-any.whl (210 kB)\n",
            "\u001b[2K     \u001b[90m━━━━━━━━━━━━━━━━━━━━━━━━━━━━━━━━━━━━━━\u001b[0m \u001b[32m210.6/210.6 KB\u001b[0m \u001b[31m20.2 MB/s\u001b[0m eta \u001b[36m0:00:00\u001b[0m\n",
            "\u001b[?25hRequirement already satisfied: tqdm in /usr/local/lib/python3.8/dist-packages (from optuna) (4.64.1)\n",
            "Requirement already satisfied: PyYAML in /usr/local/lib/python3.8/dist-packages (from optuna) (6.0)\n",
            "Requirement already satisfied: sqlalchemy>=1.3.0 in /usr/local/lib/python3.8/dist-packages (from optuna) (2.0.0)\n",
            "Collecting colorlog\n",
            "  Downloading colorlog-6.7.0-py2.py3-none-any.whl (11 kB)\n",
            "Collecting cmaes>=0.9.1\n",
            "  Downloading cmaes-0.9.1-py3-none-any.whl (21 kB)\n",
            "Requirement already satisfied: packaging>=20.0 in /usr/local/lib/python3.8/dist-packages (from optuna) (23.0)\n",
            "Collecting Mako\n",
            "  Downloading Mako-1.2.4-py3-none-any.whl (78 kB)\n",
            "\u001b[2K     \u001b[90m━━━━━━━━━━━━━━━━━━━━━━━━━━━━━━━━━━━━━━━━\u001b[0m \u001b[32m78.7/78.7 KB\u001b[0m \u001b[31m8.3 MB/s\u001b[0m eta \u001b[36m0:00:00\u001b[0m\n",
            "\u001b[?25hRequirement already satisfied: importlib-resources in /usr/local/lib/python3.8/dist-packages (from alembic>=1.5.0->optuna) (5.10.2)\n",
            "Requirement already satisfied: importlib-metadata in /usr/local/lib/python3.8/dist-packages (from alembic>=1.5.0->optuna) (6.0.0)\n",
            "Requirement already satisfied: greenlet!=0.4.17 in /usr/local/lib/python3.8/dist-packages (from sqlalchemy>=1.3.0->optuna) (2.0.2)\n",
            "Requirement already satisfied: typing-extensions>=4.2.0 in /usr/local/lib/python3.8/dist-packages (from sqlalchemy>=1.3.0->optuna) (4.4.0)\n",
            "Requirement already satisfied: zipp>=0.5 in /usr/local/lib/python3.8/dist-packages (from importlib-metadata->alembic>=1.5.0->optuna) (3.12.0)\n",
            "Requirement already satisfied: MarkupSafe>=0.9.2 in /usr/local/lib/python3.8/dist-packages (from Mako->alembic>=1.5.0->optuna) (2.0.1)\n",
            "Installing collected packages: Mako, colorlog, cmaes, alembic, optuna\n",
            "Successfully installed Mako-1.2.4 alembic-1.9.2 cmaes-0.9.1 colorlog-6.7.0 optuna-3.1.0\n"
          ]
        }
      ]
    },
    {
      "cell_type": "code",
      "source": [
        "import optuna"
      ],
      "metadata": {
        "id": "kMAMrCe3TKSA"
      },
      "execution_count": 56,
      "outputs": []
    },
    {
      "cell_type": "markdown",
      "source": [
        "Использование поиска гиперпараметров для модели логистической регрессии"
      ],
      "metadata": {
        "id": "RHBurtWYTShB"
      }
    },
    {
      "cell_type": "code",
      "source": [
        "def optuna_rf(trial):\n",
        "  # задаем пространства поиска гиперпараметров\n",
        "  penalty = trial.suggest_categorical('penalty', ['l2', 'none'])\n",
        "  solver = trial.suggest_categorical('solver', ['lbfgs', 'sag'])\n",
        "  C = trial.suggest_float('C', 0.01, 1.0, step=0.2, log=False)\n",
        "\n",
        "  # создаем модель\n",
        "  model = linear_model.LogisticRegression(penalty=penalty,\n",
        "                                          solver=solver,\n",
        "                                          C=C,\n",
        "                                          max_iter=500,\n",
        "                                          random_state=42)\n",
        "  # обучаем модель\n",
        "  model.fit(X_train, y_train)\n",
        "  score = metrics.f1_score(y_train, model.predict(X_train))\n",
        "\n",
        "  return score"
      ],
      "metadata": {
        "id": "9PewqIppTPKX"
      },
      "execution_count": 65,
      "outputs": []
    },
    {
      "cell_type": "code",
      "source": [
        "# cоздаем объект исследования\n",
        "\n",
        "study = optuna.create_study(study_name=\"LogisticRegression\", direction=\"maximize\")\n",
        "# ищем лучшую комбинацию гиперпараметров n_trials раз\n",
        "study.optimize(optuna_rf, n_trials=20)"
      ],
      "metadata": {
        "id": "7NeuZyy0X0th",
        "colab": {
          "base_uri": "https://localhost:8080/"
        },
        "outputId": "78cf955a-889b-4abd-9cff-128937721a90"
      },
      "execution_count": 66,
      "outputs": [
        {
          "output_type": "stream",
          "name": "stderr",
          "text": [
            "\u001b[32m[I 2023-02-05 19:49:24,011]\u001b[0m A new study created in memory with name: LogisticRegression\u001b[0m\n",
            "/usr/local/lib/python3.8/dist-packages/optuna/distributions.py:701: UserWarning: The distribution is specified by [0.01, 1.0] and step=0.2, but the range is not divisible by `step`. It will be replaced by [0.01, 0.81].\n",
            "  warnings.warn(\n",
            "\u001b[32m[I 2023-02-05 19:49:27,014]\u001b[0m Trial 0 finished with value: 0.8621951219512194 and parameters: {'penalty': 'l2', 'solver': 'lbfgs', 'C': 0.21000000000000002}. Best is trial 0 with value: 0.8621951219512194.\u001b[0m\n",
            "/usr/local/lib/python3.8/dist-packages/optuna/distributions.py:701: UserWarning: The distribution is specified by [0.01, 1.0] and step=0.2, but the range is not divisible by `step`. It will be replaced by [0.01, 0.81].\n",
            "  warnings.warn(\n",
            "\u001b[32m[I 2023-02-05 19:49:29,480]\u001b[0m Trial 1 finished with value: 0.8621951219512194 and parameters: {'penalty': 'l2', 'solver': 'lbfgs', 'C': 0.21000000000000002}. Best is trial 0 with value: 0.8621951219512194.\u001b[0m\n",
            "/usr/local/lib/python3.8/dist-packages/optuna/distributions.py:701: UserWarning: The distribution is specified by [0.01, 1.0] and step=0.2, but the range is not divisible by `step`. It will be replaced by [0.01, 0.81].\n",
            "  warnings.warn(\n",
            "\u001b[32m[I 2023-02-05 19:49:34,860]\u001b[0m Trial 2 finished with value: 0.8760330578512396 and parameters: {'penalty': 'l2', 'solver': 'lbfgs', 'C': 0.6100000000000001}. Best is trial 2 with value: 0.8760330578512396.\u001b[0m\n",
            "/usr/local/lib/python3.8/dist-packages/optuna/distributions.py:701: UserWarning: The distribution is specified by [0.01, 1.0] and step=0.2, but the range is not divisible by `step`. It will be replaced by [0.01, 0.81].\n",
            "  warnings.warn(\n",
            "/usr/local/lib/python3.8/dist-packages/sklearn/linear_model/_logistic.py:1483: UserWarning: Setting penalty='none' will ignore the C and l1_ratio parameters\n",
            "  warnings.warn(\n",
            "/usr/local/lib/python3.8/dist-packages/sklearn/linear_model/_logistic.py:814: ConvergenceWarning: lbfgs failed to converge (status=1):\n",
            "STOP: TOTAL NO. of ITERATIONS REACHED LIMIT.\n",
            "\n",
            "Increase the number of iterations (max_iter) or scale the data as shown in:\n",
            "    https://scikit-learn.org/stable/modules/preprocessing.html\n",
            "Please also refer to the documentation for alternative solver options:\n",
            "    https://scikit-learn.org/stable/modules/linear_model.html#logistic-regression\n",
            "  n_iter_i = _check_optimize_result(\n",
            "\u001b[32m[I 2023-02-05 19:49:39,349]\u001b[0m Trial 3 finished with value: 0.9671678428965941 and parameters: {'penalty': 'none', 'solver': 'lbfgs', 'C': 0.81}. Best is trial 3 with value: 0.9671678428965941.\u001b[0m\n",
            "/usr/local/lib/python3.8/dist-packages/optuna/distributions.py:701: UserWarning: The distribution is specified by [0.01, 1.0] and step=0.2, but the range is not divisible by `step`. It will be replaced by [0.01, 0.81].\n",
            "  warnings.warn(\n",
            "\u001b[32m[I 2023-02-05 19:49:42,290]\u001b[0m Trial 4 finished with value: 0.8710566615620214 and parameters: {'penalty': 'l2', 'solver': 'lbfgs', 'C': 0.41000000000000003}. Best is trial 3 with value: 0.9671678428965941.\u001b[0m\n",
            "/usr/local/lib/python3.8/dist-packages/optuna/distributions.py:701: UserWarning: The distribution is specified by [0.01, 1.0] and step=0.2, but the range is not divisible by `step`. It will be replaced by [0.01, 0.81].\n",
            "  warnings.warn(\n",
            "/usr/local/lib/python3.8/dist-packages/sklearn/linear_model/_sag.py:352: ConvergenceWarning: The max_iter was reached which means the coef_ did not converge\n",
            "  warnings.warn(\n",
            "\u001b[32m[I 2023-02-05 19:50:15,454]\u001b[0m Trial 5 finished with value: 0.8716692189892802 and parameters: {'penalty': 'l2', 'solver': 'sag', 'C': 0.41000000000000003}. Best is trial 3 with value: 0.9671678428965941.\u001b[0m\n",
            "/usr/local/lib/python3.8/dist-packages/optuna/distributions.py:701: UserWarning: The distribution is specified by [0.01, 1.0] and step=0.2, but the range is not divisible by `step`. It will be replaced by [0.01, 0.81].\n",
            "  warnings.warn(\n",
            "\u001b[32m[I 2023-02-05 19:50:43,078]\u001b[0m Trial 6 finished with value: 0.8810033649434078 and parameters: {'penalty': 'l2', 'solver': 'sag', 'C': 0.81}. Best is trial 3 with value: 0.9671678428965941.\u001b[0m\n",
            "/usr/local/lib/python3.8/dist-packages/optuna/distributions.py:701: UserWarning: The distribution is specified by [0.01, 1.0] and step=0.2, but the range is not divisible by `step`. It will be replaced by [0.01, 0.81].\n",
            "  warnings.warn(\n",
            "/usr/local/lib/python3.8/dist-packages/sklearn/linear_model/_logistic.py:1483: UserWarning: Setting penalty='none' will ignore the C and l1_ratio parameters\n",
            "  warnings.warn(\n",
            "/usr/local/lib/python3.8/dist-packages/sklearn/linear_model/_logistic.py:814: ConvergenceWarning: lbfgs failed to converge (status=1):\n",
            "STOP: TOTAL NO. of ITERATIONS REACHED LIMIT.\n",
            "\n",
            "Increase the number of iterations (max_iter) or scale the data as shown in:\n",
            "    https://scikit-learn.org/stable/modules/preprocessing.html\n",
            "Please also refer to the documentation for alternative solver options:\n",
            "    https://scikit-learn.org/stable/modules/linear_model.html#logistic-regression\n",
            "  n_iter_i = _check_optimize_result(\n",
            "\u001b[32m[I 2023-02-05 19:50:47,530]\u001b[0m Trial 7 finished with value: 0.9671678428965941 and parameters: {'penalty': 'none', 'solver': 'lbfgs', 'C': 0.21000000000000002}. Best is trial 3 with value: 0.9671678428965941.\u001b[0m\n",
            "/usr/local/lib/python3.8/dist-packages/optuna/distributions.py:701: UserWarning: The distribution is specified by [0.01, 1.0] and step=0.2, but the range is not divisible by `step`. It will be replaced by [0.01, 0.81].\n",
            "  warnings.warn(\n",
            "/usr/local/lib/python3.8/dist-packages/sklearn/linear_model/_logistic.py:1483: UserWarning: Setting penalty='none' will ignore the C and l1_ratio parameters\n",
            "  warnings.warn(\n",
            "/usr/local/lib/python3.8/dist-packages/sklearn/linear_model/_logistic.py:814: ConvergenceWarning: lbfgs failed to converge (status=1):\n",
            "STOP: TOTAL NO. of ITERATIONS REACHED LIMIT.\n",
            "\n",
            "Increase the number of iterations (max_iter) or scale the data as shown in:\n",
            "    https://scikit-learn.org/stable/modules/preprocessing.html\n",
            "Please also refer to the documentation for alternative solver options:\n",
            "    https://scikit-learn.org/stable/modules/linear_model.html#logistic-regression\n",
            "  n_iter_i = _check_optimize_result(\n",
            "\u001b[32m[I 2023-02-05 19:50:53,072]\u001b[0m Trial 8 finished with value: 0.9671678428965941 and parameters: {'penalty': 'none', 'solver': 'lbfgs', 'C': 0.01}. Best is trial 3 with value: 0.9671678428965941.\u001b[0m\n",
            "/usr/local/lib/python3.8/dist-packages/optuna/distributions.py:701: UserWarning: The distribution is specified by [0.01, 1.0] and step=0.2, but the range is not divisible by `step`. It will be replaced by [0.01, 0.81].\n",
            "  warnings.warn(\n",
            "/usr/local/lib/python3.8/dist-packages/sklearn/linear_model/_logistic.py:1483: UserWarning: Setting penalty='none' will ignore the C and l1_ratio parameters\n",
            "  warnings.warn(\n",
            "/usr/local/lib/python3.8/dist-packages/sklearn/linear_model/_logistic.py:814: ConvergenceWarning: lbfgs failed to converge (status=1):\n",
            "STOP: TOTAL NO. of ITERATIONS REACHED LIMIT.\n",
            "\n",
            "Increase the number of iterations (max_iter) or scale the data as shown in:\n",
            "    https://scikit-learn.org/stable/modules/preprocessing.html\n",
            "Please also refer to the documentation for alternative solver options:\n",
            "    https://scikit-learn.org/stable/modules/linear_model.html#logistic-regression\n",
            "  n_iter_i = _check_optimize_result(\n",
            "\u001b[32m[I 2023-02-05 19:50:57,621]\u001b[0m Trial 9 finished with value: 0.9671678428965941 and parameters: {'penalty': 'none', 'solver': 'lbfgs', 'C': 0.01}. Best is trial 3 with value: 0.9671678428965941.\u001b[0m\n",
            "/usr/local/lib/python3.8/dist-packages/optuna/distributions.py:701: UserWarning: The distribution is specified by [0.01, 1.0] and step=0.2, but the range is not divisible by `step`. It will be replaced by [0.01, 0.81].\n",
            "  warnings.warn(\n",
            "/usr/local/lib/python3.8/dist-packages/sklearn/linear_model/_logistic.py:1483: UserWarning: Setting penalty='none' will ignore the C and l1_ratio parameters\n",
            "  warnings.warn(\n",
            "/usr/local/lib/python3.8/dist-packages/sklearn/linear_model/_sag.py:352: ConvergenceWarning: The max_iter was reached which means the coef_ did not converge\n",
            "  warnings.warn(\n",
            "\u001b[32m[I 2023-02-05 19:51:28,822]\u001b[0m Trial 10 finished with value: 0.9172519083969467 and parameters: {'penalty': 'none', 'solver': 'sag', 'C': 0.81}. Best is trial 3 with value: 0.9671678428965941.\u001b[0m\n",
            "/usr/local/lib/python3.8/dist-packages/optuna/distributions.py:701: UserWarning: The distribution is specified by [0.01, 1.0] and step=0.2, but the range is not divisible by `step`. It will be replaced by [0.01, 0.81].\n",
            "  warnings.warn(\n",
            "/usr/local/lib/python3.8/dist-packages/sklearn/linear_model/_logistic.py:1483: UserWarning: Setting penalty='none' will ignore the C and l1_ratio parameters\n",
            "  warnings.warn(\n",
            "/usr/local/lib/python3.8/dist-packages/sklearn/linear_model/_logistic.py:814: ConvergenceWarning: lbfgs failed to converge (status=1):\n",
            "STOP: TOTAL NO. of ITERATIONS REACHED LIMIT.\n",
            "\n",
            "Increase the number of iterations (max_iter) or scale the data as shown in:\n",
            "    https://scikit-learn.org/stable/modules/preprocessing.html\n",
            "Please also refer to the documentation for alternative solver options:\n",
            "    https://scikit-learn.org/stable/modules/linear_model.html#logistic-regression\n",
            "  n_iter_i = _check_optimize_result(\n",
            "\u001b[32m[I 2023-02-05 19:51:34,365]\u001b[0m Trial 11 finished with value: 0.9671678428965941 and parameters: {'penalty': 'none', 'solver': 'lbfgs', 'C': 0.6100000000000001}. Best is trial 3 with value: 0.9671678428965941.\u001b[0m\n",
            "/usr/local/lib/python3.8/dist-packages/optuna/distributions.py:701: UserWarning: The distribution is specified by [0.01, 1.0] and step=0.2, but the range is not divisible by `step`. It will be replaced by [0.01, 0.81].\n",
            "  warnings.warn(\n",
            "/usr/local/lib/python3.8/dist-packages/sklearn/linear_model/_logistic.py:1483: UserWarning: Setting penalty='none' will ignore the C and l1_ratio parameters\n",
            "  warnings.warn(\n",
            "/usr/local/lib/python3.8/dist-packages/sklearn/linear_model/_logistic.py:814: ConvergenceWarning: lbfgs failed to converge (status=1):\n",
            "STOP: TOTAL NO. of ITERATIONS REACHED LIMIT.\n",
            "\n",
            "Increase the number of iterations (max_iter) or scale the data as shown in:\n",
            "    https://scikit-learn.org/stable/modules/preprocessing.html\n",
            "Please also refer to the documentation for alternative solver options:\n",
            "    https://scikit-learn.org/stable/modules/linear_model.html#logistic-regression\n",
            "  n_iter_i = _check_optimize_result(\n",
            "\u001b[32m[I 2023-02-05 19:51:38,940]\u001b[0m Trial 12 finished with value: 0.9671678428965941 and parameters: {'penalty': 'none', 'solver': 'lbfgs', 'C': 0.21000000000000002}. Best is trial 3 with value: 0.9671678428965941.\u001b[0m\n",
            "/usr/local/lib/python3.8/dist-packages/optuna/distributions.py:701: UserWarning: The distribution is specified by [0.01, 1.0] and step=0.2, but the range is not divisible by `step`. It will be replaced by [0.01, 0.81].\n",
            "  warnings.warn(\n",
            "/usr/local/lib/python3.8/dist-packages/sklearn/linear_model/_logistic.py:1483: UserWarning: Setting penalty='none' will ignore the C and l1_ratio parameters\n",
            "  warnings.warn(\n",
            "/usr/local/lib/python3.8/dist-packages/sklearn/linear_model/_logistic.py:814: ConvergenceWarning: lbfgs failed to converge (status=1):\n",
            "STOP: TOTAL NO. of ITERATIONS REACHED LIMIT.\n",
            "\n",
            "Increase the number of iterations (max_iter) or scale the data as shown in:\n",
            "    https://scikit-learn.org/stable/modules/preprocessing.html\n",
            "Please also refer to the documentation for alternative solver options:\n",
            "    https://scikit-learn.org/stable/modules/linear_model.html#logistic-regression\n",
            "  n_iter_i = _check_optimize_result(\n",
            "\u001b[32m[I 2023-02-05 19:51:43,771]\u001b[0m Trial 13 finished with value: 0.9671678428965941 and parameters: {'penalty': 'none', 'solver': 'lbfgs', 'C': 0.6100000000000001}. Best is trial 3 with value: 0.9671678428965941.\u001b[0m\n",
            "/usr/local/lib/python3.8/dist-packages/optuna/distributions.py:701: UserWarning: The distribution is specified by [0.01, 1.0] and step=0.2, but the range is not divisible by `step`. It will be replaced by [0.01, 0.81].\n",
            "  warnings.warn(\n",
            "/usr/local/lib/python3.8/dist-packages/sklearn/linear_model/_logistic.py:1483: UserWarning: Setting penalty='none' will ignore the C and l1_ratio parameters\n",
            "  warnings.warn(\n",
            "/usr/local/lib/python3.8/dist-packages/sklearn/linear_model/_sag.py:352: ConvergenceWarning: The max_iter was reached which means the coef_ did not converge\n",
            "  warnings.warn(\n",
            "\u001b[32m[I 2023-02-05 19:52:16,613]\u001b[0m Trial 14 finished with value: 0.9172519083969467 and parameters: {'penalty': 'none', 'solver': 'sag', 'C': 0.21000000000000002}. Best is trial 3 with value: 0.9671678428965941.\u001b[0m\n",
            "/usr/local/lib/python3.8/dist-packages/optuna/distributions.py:701: UserWarning: The distribution is specified by [0.01, 1.0] and step=0.2, but the range is not divisible by `step`. It will be replaced by [0.01, 0.81].\n",
            "  warnings.warn(\n",
            "/usr/local/lib/python3.8/dist-packages/sklearn/linear_model/_logistic.py:1483: UserWarning: Setting penalty='none' will ignore the C and l1_ratio parameters\n",
            "  warnings.warn(\n",
            "/usr/local/lib/python3.8/dist-packages/sklearn/linear_model/_logistic.py:814: ConvergenceWarning: lbfgs failed to converge (status=1):\n",
            "STOP: TOTAL NO. of ITERATIONS REACHED LIMIT.\n",
            "\n",
            "Increase the number of iterations (max_iter) or scale the data as shown in:\n",
            "    https://scikit-learn.org/stable/modules/preprocessing.html\n",
            "Please also refer to the documentation for alternative solver options:\n",
            "    https://scikit-learn.org/stable/modules/linear_model.html#logistic-regression\n",
            "  n_iter_i = _check_optimize_result(\n",
            "\u001b[32m[I 2023-02-05 19:52:21,158]\u001b[0m Trial 15 finished with value: 0.9671678428965941 and parameters: {'penalty': 'none', 'solver': 'lbfgs', 'C': 0.81}. Best is trial 3 with value: 0.9671678428965941.\u001b[0m\n",
            "/usr/local/lib/python3.8/dist-packages/optuna/distributions.py:701: UserWarning: The distribution is specified by [0.01, 1.0] and step=0.2, but the range is not divisible by `step`. It will be replaced by [0.01, 0.81].\n",
            "  warnings.warn(\n",
            "/usr/local/lib/python3.8/dist-packages/sklearn/linear_model/_logistic.py:1483: UserWarning: Setting penalty='none' will ignore the C and l1_ratio parameters\n",
            "  warnings.warn(\n",
            "/usr/local/lib/python3.8/dist-packages/sklearn/linear_model/_logistic.py:814: ConvergenceWarning: lbfgs failed to converge (status=1):\n",
            "STOP: TOTAL NO. of ITERATIONS REACHED LIMIT.\n",
            "\n",
            "Increase the number of iterations (max_iter) or scale the data as shown in:\n",
            "    https://scikit-learn.org/stable/modules/preprocessing.html\n",
            "Please also refer to the documentation for alternative solver options:\n",
            "    https://scikit-learn.org/stable/modules/linear_model.html#logistic-regression\n",
            "  n_iter_i = _check_optimize_result(\n",
            "\u001b[32m[I 2023-02-05 19:52:26,842]\u001b[0m Trial 16 finished with value: 0.9671678428965941 and parameters: {'penalty': 'none', 'solver': 'lbfgs', 'C': 0.41000000000000003}. Best is trial 3 with value: 0.9671678428965941.\u001b[0m\n",
            "/usr/local/lib/python3.8/dist-packages/optuna/distributions.py:701: UserWarning: The distribution is specified by [0.01, 1.0] and step=0.2, but the range is not divisible by `step`. It will be replaced by [0.01, 0.81].\n",
            "  warnings.warn(\n",
            "/usr/local/lib/python3.8/dist-packages/sklearn/linear_model/_logistic.py:1483: UserWarning: Setting penalty='none' will ignore the C and l1_ratio parameters\n",
            "  warnings.warn(\n",
            "/usr/local/lib/python3.8/dist-packages/sklearn/linear_model/_logistic.py:814: ConvergenceWarning: lbfgs failed to converge (status=1):\n",
            "STOP: TOTAL NO. of ITERATIONS REACHED LIMIT.\n",
            "\n",
            "Increase the number of iterations (max_iter) or scale the data as shown in:\n",
            "    https://scikit-learn.org/stable/modules/preprocessing.html\n",
            "Please also refer to the documentation for alternative solver options:\n",
            "    https://scikit-learn.org/stable/modules/linear_model.html#logistic-regression\n",
            "  n_iter_i = _check_optimize_result(\n",
            "\u001b[32m[I 2023-02-05 19:52:31,548]\u001b[0m Trial 17 finished with value: 0.9671678428965941 and parameters: {'penalty': 'none', 'solver': 'lbfgs', 'C': 0.6100000000000001}. Best is trial 3 with value: 0.9671678428965941.\u001b[0m\n",
            "/usr/local/lib/python3.8/dist-packages/optuna/distributions.py:701: UserWarning: The distribution is specified by [0.01, 1.0] and step=0.2, but the range is not divisible by `step`. It will be replaced by [0.01, 0.81].\n",
            "  warnings.warn(\n",
            "/usr/local/lib/python3.8/dist-packages/sklearn/linear_model/_logistic.py:1483: UserWarning: Setting penalty='none' will ignore the C and l1_ratio parameters\n",
            "  warnings.warn(\n",
            "/usr/local/lib/python3.8/dist-packages/sklearn/linear_model/_sag.py:352: ConvergenceWarning: The max_iter was reached which means the coef_ did not converge\n",
            "  warnings.warn(\n",
            "\u001b[32m[I 2023-02-05 19:53:04,666]\u001b[0m Trial 18 finished with value: 0.9172519083969467 and parameters: {'penalty': 'none', 'solver': 'sag', 'C': 0.41000000000000003}. Best is trial 3 with value: 0.9671678428965941.\u001b[0m\n",
            "/usr/local/lib/python3.8/dist-packages/optuna/distributions.py:701: UserWarning: The distribution is specified by [0.01, 1.0] and step=0.2, but the range is not divisible by `step`. It will be replaced by [0.01, 0.81].\n",
            "  warnings.warn(\n",
            "/usr/local/lib/python3.8/dist-packages/sklearn/linear_model/_logistic.py:1483: UserWarning: Setting penalty='none' will ignore the C and l1_ratio parameters\n",
            "  warnings.warn(\n",
            "/usr/local/lib/python3.8/dist-packages/sklearn/linear_model/_logistic.py:814: ConvergenceWarning: lbfgs failed to converge (status=1):\n",
            "STOP: TOTAL NO. of ITERATIONS REACHED LIMIT.\n",
            "\n",
            "Increase the number of iterations (max_iter) or scale the data as shown in:\n",
            "    https://scikit-learn.org/stable/modules/preprocessing.html\n",
            "Please also refer to the documentation for alternative solver options:\n",
            "    https://scikit-learn.org/stable/modules/linear_model.html#logistic-regression\n",
            "  n_iter_i = _check_optimize_result(\n",
            "\u001b[32m[I 2023-02-05 19:53:10,278]\u001b[0m Trial 19 finished with value: 0.9671678428965941 and parameters: {'penalty': 'none', 'solver': 'lbfgs', 'C': 0.01}. Best is trial 3 with value: 0.9671678428965941.\u001b[0m\n"
          ]
        }
      ]
    },
    {
      "cell_type": "code",
      "source": [
        "# выводим результаты на обучающей выборке\n",
        "print(\"Наилучшие значения гиперпараметров {}\".format(study.best_params))\n",
        "print(\"f1_score на обучающем наборе: {:.2f}\".format(study.best_value))"
      ],
      "metadata": {
        "id": "JagncDGRYB7g",
        "colab": {
          "base_uri": "https://localhost:8080/"
        },
        "outputId": "9c2d2791-6f88-46ba-ce86-ffe130bf3b5c"
      },
      "execution_count": 67,
      "outputs": [
        {
          "output_type": "stream",
          "name": "stdout",
          "text": [
            "Наилучшие значения гиперпараметров {'penalty': 'none', 'solver': 'lbfgs', 'C': 0.81}\n",
            "f1_score на обучающем наборе: 0.97\n"
          ]
        }
      ]
    },
    {
      "cell_type": "code",
      "source": [
        "# рассчитаем точность для тестовой выборки\n",
        "model = linear_model.LogisticRegression(**study.best_params,random_state=42, max_iter=500)\n",
        "model.fit(X_train, y_train)\n",
        "y_train_pred = model.predict(X_train)\n",
        "print(\"accuracy на тестовом наборе: {:.2f}\".format(model.score(X_test, y_test)))\n",
        "y_test_pred = model.predict(X_test)\n",
        "print('f1_score на тестовом наборе: {:.2f}'.format(metrics.f1_score(y_test, y_test_pred)))"
      ],
      "metadata": {
        "id": "JiYI1r-EYFYJ",
        "colab": {
          "base_uri": "https://localhost:8080/"
        },
        "outputId": "a1e8b40b-44b1-49f1-cc66-7eeebdee5607"
      },
      "execution_count": 68,
      "outputs": [
        {
          "output_type": "stream",
          "name": "stderr",
          "text": [
            "/usr/local/lib/python3.8/dist-packages/sklearn/linear_model/_logistic.py:1483: UserWarning: Setting penalty='none' will ignore the C and l1_ratio parameters\n",
            "  warnings.warn(\n"
          ]
        },
        {
          "output_type": "stream",
          "name": "stdout",
          "text": [
            "accuracy на тестовом наборе: 0.70\n",
            "f1_score на тестовом наборе: 0.73\n"
          ]
        },
        {
          "output_type": "stream",
          "name": "stderr",
          "text": [
            "/usr/local/lib/python3.8/dist-packages/sklearn/linear_model/_logistic.py:814: ConvergenceWarning: lbfgs failed to converge (status=1):\n",
            "STOP: TOTAL NO. of ITERATIONS REACHED LIMIT.\n",
            "\n",
            "Increase the number of iterations (max_iter) or scale the data as shown in:\n",
            "    https://scikit-learn.org/stable/modules/preprocessing.html\n",
            "Please also refer to the documentation for alternative solver options:\n",
            "    https://scikit-learn.org/stable/modules/linear_model.html#logistic-regression\n",
            "  n_iter_i = _check_optimize_result(\n"
          ]
        }
      ]
    },
    {
      "cell_type": "markdown",
      "source": [
        "Использование поиска гиперпараметров для модели случайный лес\n",
        "\n"
      ],
      "metadata": {
        "id": "exPfSF9aYxHw"
      }
    },
    {
      "cell_type": "code",
      "source": [
        "def optuna_rf(trial):\n",
        "  # задаем пространства поиска гиперпараметров\n",
        "  n_estimators = trial.suggest_int('n_estimators', 80, 200, 30)\n",
        "  max_depth = trial.suggest_int('max_depth', 20, 40, 10)\n",
        "  min_samples_leaf = trial.suggest_int('min_samples_leaf', 2, 7, 2)\n",
        "\n",
        "  # создаем модель\n",
        "  model = ensemble.RandomForestClassifier(n_estimators=n_estimators,\n",
        "                                          max_depth=max_depth,\n",
        "                                          min_samples_leaf=min_samples_leaf,\n",
        "                                          random_state=42)\n",
        "  # обучаем модель\n",
        "  model.fit(X_train, y_train)\n",
        "  score = metrics.f1_score(y_train, model.predict(X_train))\n",
        "\n",
        "  return score"
      ],
      "metadata": {
        "id": "paYV756EY4Pj"
      },
      "execution_count": 69,
      "outputs": []
    },
    {
      "cell_type": "code",
      "source": [
        "# cоздаем объект исследования\n",
        "\n",
        "study = optuna.create_study(study_name=\"RandomForestClassifier\", direction=\"maximize\")\n",
        "# ищем лучшую комбинацию гиперпараметров n_trials раз\n",
        "study.optimize(optuna_rf, n_trials=20)"
      ],
      "metadata": {
        "id": "i6ieYF2lZSSZ",
        "colab": {
          "base_uri": "https://localhost:8080/"
        },
        "outputId": "c2b56912-ebbe-4237-eda9-bf7d9bba676f"
      },
      "execution_count": 70,
      "outputs": [
        {
          "output_type": "stream",
          "name": "stderr",
          "text": [
            "\u001b[32m[I 2023-02-05 20:02:44,858]\u001b[0m A new study created in memory with name: RandomForestClassifier\u001b[0m\n",
            "/usr/local/lib/python3.8/dist-packages/optuna/distributions.py:716: UserWarning: The distribution is specified by [2, 7] and step=2, but the range is not divisible by `step`. It will be replaced by [2, 6].\n",
            "  warnings.warn(\n",
            "\u001b[32m[I 2023-02-05 20:02:46,451]\u001b[0m Trial 0 finished with value: 0.991421568627451 and parameters: {'n_estimators': 80, 'max_depth': 40, 'min_samples_leaf': 2}. Best is trial 0 with value: 0.991421568627451.\u001b[0m\n",
            "/usr/local/lib/python3.8/dist-packages/optuna/distributions.py:716: UserWarning: The distribution is specified by [2, 7] and step=2, but the range is not divisible by `step`. It will be replaced by [2, 6].\n",
            "  warnings.warn(\n",
            "\u001b[32m[I 2023-02-05 20:02:49,823]\u001b[0m Trial 1 finished with value: 0.9587029672682778 and parameters: {'n_estimators': 200, 'max_depth': 40, 'min_samples_leaf': 4}. Best is trial 0 with value: 0.991421568627451.\u001b[0m\n",
            "/usr/local/lib/python3.8/dist-packages/optuna/distributions.py:716: UserWarning: The distribution is specified by [2, 7] and step=2, but the range is not divisible by `step`. It will be replaced by [2, 6].\n",
            "  warnings.warn(\n",
            "\u001b[32m[I 2023-02-05 20:02:52,664]\u001b[0m Trial 2 finished with value: 0.9372896910370144 and parameters: {'n_estimators': 140, 'max_depth': 30, 'min_samples_leaf': 6}. Best is trial 0 with value: 0.991421568627451.\u001b[0m\n",
            "/usr/local/lib/python3.8/dist-packages/optuna/distributions.py:716: UserWarning: The distribution is specified by [2, 7] and step=2, but the range is not divisible by `step`. It will be replaced by [2, 6].\n",
            "  warnings.warn(\n",
            "\u001b[32m[I 2023-02-05 20:02:56,644]\u001b[0m Trial 3 finished with value: 0.990499540300337 and parameters: {'n_estimators': 200, 'max_depth': 20, 'min_samples_leaf': 2}. Best is trial 0 with value: 0.991421568627451.\u001b[0m\n",
            "/usr/local/lib/python3.8/dist-packages/optuna/distributions.py:716: UserWarning: The distribution is specified by [2, 7] and step=2, but the range is not divisible by `step`. It will be replaced by [2, 6].\n",
            "  warnings.warn(\n",
            "\u001b[32m[I 2023-02-05 20:02:58,745]\u001b[0m Trial 4 finished with value: 0.9911124731841863 and parameters: {'n_estimators': 110, 'max_depth': 30, 'min_samples_leaf': 2}. Best is trial 0 with value: 0.991421568627451.\u001b[0m\n",
            "/usr/local/lib/python3.8/dist-packages/optuna/distributions.py:716: UserWarning: The distribution is specified by [2, 7] and step=2, but the range is not divisible by `step`. It will be replaced by [2, 6].\n",
            "  warnings.warn(\n",
            "\u001b[32m[I 2023-02-05 20:03:01,000]\u001b[0m Trial 5 finished with value: 0.9911179173047474 and parameters: {'n_estimators': 110, 'max_depth': 20, 'min_samples_leaf': 2}. Best is trial 0 with value: 0.991421568627451.\u001b[0m\n",
            "/usr/local/lib/python3.8/dist-packages/optuna/distributions.py:716: UserWarning: The distribution is specified by [2, 7] and step=2, but the range is not divisible by `step`. It will be replaced by [2, 6].\n",
            "  warnings.warn(\n",
            "\u001b[32m[I 2023-02-05 20:03:03,772]\u001b[0m Trial 6 finished with value: 0.991421568627451 and parameters: {'n_estimators': 80, 'max_depth': 30, 'min_samples_leaf': 2}. Best is trial 0 with value: 0.991421568627451.\u001b[0m\n",
            "/usr/local/lib/python3.8/dist-packages/optuna/distributions.py:716: UserWarning: The distribution is specified by [2, 7] and step=2, but the range is not divisible by `step`. It will be replaced by [2, 6].\n",
            "  warnings.warn(\n",
            "\u001b[32m[I 2023-02-05 20:03:05,952]\u001b[0m Trial 7 finished with value: 0.991421568627451 and parameters: {'n_estimators': 80, 'max_depth': 40, 'min_samples_leaf': 2}. Best is trial 0 with value: 0.991421568627451.\u001b[0m\n",
            "/usr/local/lib/python3.8/dist-packages/optuna/distributions.py:716: UserWarning: The distribution is specified by [2, 7] and step=2, but the range is not divisible by `step`. It will be replaced by [2, 6].\n",
            "  warnings.warn(\n",
            "\u001b[32m[I 2023-02-05 20:03:08,464]\u001b[0m Trial 8 finished with value: 0.9584097859327219 and parameters: {'n_estimators': 140, 'max_depth': 30, 'min_samples_leaf': 4}. Best is trial 0 with value: 0.991421568627451.\u001b[0m\n",
            "/usr/local/lib/python3.8/dist-packages/optuna/distributions.py:716: UserWarning: The distribution is specified by [2, 7] and step=2, but the range is not divisible by `step`. It will be replaced by [2, 6].\n",
            "  warnings.warn(\n",
            "\u001b[32m[I 2023-02-05 20:03:11,124]\u001b[0m Trial 9 finished with value: 0.9908144519289651 and parameters: {'n_estimators': 140, 'max_depth': 30, 'min_samples_leaf': 2}. Best is trial 0 with value: 0.991421568627451.\u001b[0m\n",
            "/usr/local/lib/python3.8/dist-packages/optuna/distributions.py:716: UserWarning: The distribution is specified by [2, 7] and step=2, but the range is not divisible by `step`. It will be replaced by [2, 6].\n",
            "  warnings.warn(\n",
            "\u001b[32m[I 2023-02-05 20:03:12,444]\u001b[0m Trial 10 finished with value: 0.9332107843137255 and parameters: {'n_estimators': 80, 'max_depth': 40, 'min_samples_leaf': 6}. Best is trial 0 with value: 0.991421568627451.\u001b[0m\n",
            "/usr/local/lib/python3.8/dist-packages/optuna/distributions.py:716: UserWarning: The distribution is specified by [2, 7] and step=2, but the range is not divisible by `step`. It will be replaced by [2, 6].\n",
            "  warnings.warn(\n",
            "\u001b[32m[I 2023-02-05 20:03:13,834]\u001b[0m Trial 11 finished with value: 0.9571341090018372 and parameters: {'n_estimators': 80, 'max_depth': 40, 'min_samples_leaf': 4}. Best is trial 0 with value: 0.991421568627451.\u001b[0m\n",
            "/usr/local/lib/python3.8/dist-packages/optuna/distributions.py:716: UserWarning: The distribution is specified by [2, 7] and step=2, but the range is not divisible by `step`. It will be replaced by [2, 6].\n",
            "  warnings.warn(\n",
            "\u001b[32m[I 2023-02-05 20:03:15,933]\u001b[0m Trial 12 finished with value: 0.9911179173047474 and parameters: {'n_estimators': 110, 'max_depth': 20, 'min_samples_leaf': 2}. Best is trial 0 with value: 0.991421568627451.\u001b[0m\n",
            "/usr/local/lib/python3.8/dist-packages/optuna/distributions.py:716: UserWarning: The distribution is specified by [2, 7] and step=2, but the range is not divisible by `step`. It will be replaced by [2, 6].\n",
            "  warnings.warn(\n",
            "\u001b[32m[I 2023-02-05 20:03:17,697]\u001b[0m Trial 13 finished with value: 0.9571341090018372 and parameters: {'n_estimators': 80, 'max_depth': 30, 'min_samples_leaf': 4}. Best is trial 0 with value: 0.991421568627451.\u001b[0m\n",
            "/usr/local/lib/python3.8/dist-packages/optuna/distributions.py:716: UserWarning: The distribution is specified by [2, 7] and step=2, but the range is not divisible by `step`. It will be replaced by [2, 6].\n",
            "  warnings.warn(\n",
            "\u001b[32m[I 2023-02-05 20:03:21,502]\u001b[0m Trial 14 finished with value: 0.9932639314145744 and parameters: {'n_estimators': 170, 'max_depth': 40, 'min_samples_leaf': 2}. Best is trial 14 with value: 0.9932639314145744.\u001b[0m\n",
            "/usr/local/lib/python3.8/dist-packages/optuna/distributions.py:716: UserWarning: The distribution is specified by [2, 7] and step=2, but the range is not divisible by `step`. It will be replaced by [2, 6].\n",
            "  warnings.warn(\n",
            "\u001b[32m[I 2023-02-05 20:03:24,372]\u001b[0m Trial 15 finished with value: 0.9577464788732394 and parameters: {'n_estimators': 170, 'max_depth': 40, 'min_samples_leaf': 4}. Best is trial 14 with value: 0.9932639314145744.\u001b[0m\n",
            "/usr/local/lib/python3.8/dist-packages/optuna/distributions.py:716: UserWarning: The distribution is specified by [2, 7] and step=2, but the range is not divisible by `step`. It will be replaced by [2, 6].\n",
            "  warnings.warn(\n",
            "\u001b[32m[I 2023-02-05 20:03:27,576]\u001b[0m Trial 16 finished with value: 0.9932639314145744 and parameters: {'n_estimators': 170, 'max_depth': 40, 'min_samples_leaf': 2}. Best is trial 14 with value: 0.9932639314145744.\u001b[0m\n",
            "/usr/local/lib/python3.8/dist-packages/optuna/distributions.py:716: UserWarning: The distribution is specified by [2, 7] and step=2, but the range is not divisible by `step`. It will be replaced by [2, 6].\n",
            "  warnings.warn(\n",
            "\u001b[32m[I 2023-02-05 20:03:30,645]\u001b[0m Trial 17 finished with value: 0.9336999694469906 and parameters: {'n_estimators': 170, 'max_depth': 40, 'min_samples_leaf': 6}. Best is trial 14 with value: 0.9932639314145744.\u001b[0m\n",
            "/usr/local/lib/python3.8/dist-packages/optuna/distributions.py:716: UserWarning: The distribution is specified by [2, 7] and step=2, but the range is not divisible by `step`. It will be replaced by [2, 6].\n",
            "  warnings.warn(\n",
            "\u001b[32m[I 2023-02-05 20:03:34,300]\u001b[0m Trial 18 finished with value: 0.9932639314145744 and parameters: {'n_estimators': 170, 'max_depth': 40, 'min_samples_leaf': 2}. Best is trial 14 with value: 0.9932639314145744.\u001b[0m\n",
            "/usr/local/lib/python3.8/dist-packages/optuna/distributions.py:716: UserWarning: The distribution is specified by [2, 7] and step=2, but the range is not divisible by `step`. It will be replaced by [2, 6].\n",
            "  warnings.warn(\n",
            "\u001b[32m[I 2023-02-05 20:03:37,177]\u001b[0m Trial 19 finished with value: 0.9577464788732394 and parameters: {'n_estimators': 170, 'max_depth': 40, 'min_samples_leaf': 4}. Best is trial 14 with value: 0.9932639314145744.\u001b[0m\n"
          ]
        }
      ]
    },
    {
      "cell_type": "code",
      "source": [
        "# выводим результаты на обучающей выборке\n",
        "print(\"Наилучшие значения гиперпараметров {}\".format(study.best_params))\n",
        "print(\"f1_score на обучающем наборе: {:.2f}\".format(study.best_value))"
      ],
      "metadata": {
        "id": "fCI7GtxDZWpx",
        "colab": {
          "base_uri": "https://localhost:8080/"
        },
        "outputId": "3dbfbd7e-b690-4bb1-ae51-464fb200a118"
      },
      "execution_count": 71,
      "outputs": [
        {
          "output_type": "stream",
          "name": "stdout",
          "text": [
            "Наилучшие значения гиперпараметров {'n_estimators': 170, 'max_depth': 40, 'min_samples_leaf': 2}\n",
            "f1_score на обучающем наборе: 0.99\n"
          ]
        }
      ]
    },
    {
      "cell_type": "code",
      "source": [
        "# рассчитаем точность для тестовой выборки\n",
        "model = ensemble.RandomForestClassifier(**study.best_params,random_state=42, )\n",
        "model.fit(X_train, y_train)\n",
        "y_train_pred = model.predict(X_train)\n",
        "print(\"accuracy на тестовом наборе: {:.2f}\".format(model.score(X_test, y_test)))\n",
        "y_test_pred = model.predict(X_test)\n",
        "print('f1_score на тестовом наборе: {:.2f}'.format(metrics.f1_score(y_test, y_test_pred)))"
      ],
      "metadata": {
        "id": "xC_zkoBgZbHA",
        "colab": {
          "base_uri": "https://localhost:8080/"
        },
        "outputId": "9dd899ba-7e79-4bb7-9843-003eeca2f2fc"
      },
      "execution_count": 72,
      "outputs": [
        {
          "output_type": "stream",
          "name": "stdout",
          "text": [
            "accuracy на тестовом наборе: 0.80\n",
            "f1_score на тестовом наборе: 0.82\n"
          ]
        }
      ]
    },
    {
      "cell_type": "markdown",
      "source": [
        "В результате применения подбора гиперпараметров удалось получить улучшенную модель случайного леса"
      ],
      "metadata": {
        "id": "Vi4PmFpSNiEY"
      }
    }
  ],
  "metadata": {
    "colab": {
      "provenance": []
    },
    "kernelspec": {
      "display_name": "Python 3",
      "name": "python3"
    },
    "language_info": {
      "name": "python"
    }
  },
  "nbformat": 4,
  "nbformat_minor": 0
}